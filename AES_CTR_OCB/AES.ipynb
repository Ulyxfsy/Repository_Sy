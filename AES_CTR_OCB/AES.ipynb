{
  "nbformat": 4,
  "nbformat_minor": 0,
  "metadata": {
    "colab": {
      "provenance": []
    },
    "kernelspec": {
      "name": "python3",
      "display_name": "Python 3"
    },
    "language_info": {
      "name": "python"
    }
  },
  "cells": [
    {
      "cell_type": "code",
      "execution_count": 1,
      "metadata": {
        "colab": {
          "base_uri": "https://localhost:8080/"
        },
        "id": "YhBPKmApXg69",
        "outputId": "606f4fd2-c96f-43fe-80c0-359d375fbc5e"
      },
      "outputs": [
        {
          "output_type": "stream",
          "name": "stdout",
          "text": [
            "Collecting pycryptodome\n",
            "  Downloading pycryptodome-3.21.0-cp36-abi3-manylinux_2_17_x86_64.manylinux2014_x86_64.whl.metadata (3.4 kB)\n",
            "Downloading pycryptodome-3.21.0-cp36-abi3-manylinux_2_17_x86_64.manylinux2014_x86_64.whl (2.3 MB)\n",
            "\u001b[?25l   \u001b[90m━━━━━━━━━━━━━━━━━━━━━━━━━━━━━━━━━━━━━━━━\u001b[0m \u001b[32m0.0/2.3 MB\u001b[0m \u001b[31m?\u001b[0m eta \u001b[36m-:--:--\u001b[0m\r\u001b[2K   \u001b[91m━━━━━━━━━━━━━━━━━━━━━━━━━━━━━━\u001b[0m\u001b[90m╺\u001b[0m\u001b[90m━━━━━━━━━\u001b[0m \u001b[32m1.7/2.3 MB\u001b[0m \u001b[31m56.8 MB/s\u001b[0m eta \u001b[36m0:00:01\u001b[0m\r\u001b[2K   \u001b[91m━━━━━━━━━━━━━━━━━━━━━━━━━━━━━━━━━━━━━━━\u001b[0m\u001b[91m╸\u001b[0m \u001b[32m2.3/2.3 MB\u001b[0m \u001b[31m46.8 MB/s\u001b[0m eta \u001b[36m0:00:01\u001b[0m\r\u001b[2K   \u001b[90m━━━━━━━━━━━━━━━━━━━━━━━━━━━━━━━━━━━━━━━━\u001b[0m \u001b[32m2.3/2.3 MB\u001b[0m \u001b[31m28.2 MB/s\u001b[0m eta \u001b[36m0:00:00\u001b[0m\n",
            "\u001b[?25hInstalling collected packages: pycryptodome\n",
            "Successfully installed pycryptodome-3.21.0\n"
          ]
        }
      ],
      "source": [
        "pip install pycryptodome\n"
      ]
    },
    {
      "cell_type": "code",
      "source": [
        "#Encrypt data w AES using CTR and HMAC\n",
        "#mode operation used : CTR\n",
        "from Crypto.Cipher import AES #using pycryptodome library\n",
        "from Crypto.Hash import HMAC, SHA256 #using HMAC SHA256 for data integrity\n",
        "from Crypto.Random import get_random_bytes\n",
        "\n",
        "data = 'secret data to transmit'.encode()\n",
        "\n",
        "aes_key = get_random_bytes(16)\n",
        "hmac_key = get_random_bytes(16)\n",
        "\n",
        "cipher = AES.new(aes_key, AES.MODE_CTR)\n",
        "ciphertext = cipher.encrypt(data)\n",
        "\n",
        "hmac = HMAC.new(hmac_key, digestmod=SHA256)\n",
        "tag = hmac.update(cipher.nonce + ciphertext).digest()\n",
        "\n",
        "with open(\"encrypted.bin\", \"wb\") as f:\n",
        "    f.write(tag)\n",
        "    f.write(cipher.nonce)\n",
        "    f.write(ciphertext)\n",
        "\n",
        "# Share securely aes_key and hmac_key with the receiver\n",
        "# encrypted.bin can be sent over an unsecure channel"
      ],
      "metadata": {
        "id": "o9jcSM7HYr0W"
      },
      "execution_count": 14,
      "outputs": []
    },
    {
      "cell_type": "code",
      "source": [
        "#Decrypt and verify data integrity with HMAC\n",
        "#generating a ValueError exception when tampering is detected\n",
        "import sys\n",
        "from Crypto.Cipher import AES\n",
        "from Crypto.Hash import HMAC, SHA256\n",
        "\n",
        "# Somehow, the receiver securely get aes_key and hmac_key\n",
        "# encrypted.bin can be sent over an unsecure channel\n",
        "\n",
        "with open(\"encrypted.bin\", \"rb\") as f:\n",
        "    tag = f.read(32)\n",
        "    nonce = f.read(8)\n",
        "    ciphertext = f.read()\n",
        "\n",
        "try:\n",
        "    hmac = HMAC.new(hmac_key, digestmod=SHA256)\n",
        "    hmac.update(nonce + ciphertext)\n",
        "    hmac.verify(tag)\n",
        "except ValueError:\n",
        "    print(\"The message was modified!\")\n",
        "    sys.exit(1)\n",
        "\n",
        "cipher = AES.new(aes_key, AES.MODE_CTR, nonce=nonce)\n",
        "message = cipher.decrypt(ciphertext)\n",
        "print(\"Message:\", message.decode())"
      ],
      "metadata": {
        "colab": {
          "base_uri": "https://localhost:8080/"
        },
        "id": "9SaFvo7aYt_c",
        "outputId": "01244e4b-22c9-49c6-d4cf-7e4e7eb513c3"
      },
      "execution_count": 18,
      "outputs": [
        {
          "output_type": "stream",
          "name": "stdout",
          "text": [
            "Message: secret data to transmit\n"
          ]
        }
      ]
    },
    {
      "cell_type": "code",
      "source": [
        "#Encrypt n authenticate data using OCB and no HMAC\n",
        "#mode operation used : OCB\n",
        "from Crypto.Cipher import AES\n",
        "from Crypto.Random import get_random_bytes\n",
        "\n",
        "data = 'secret data to transmit'.encode()\n",
        "\n",
        "aes_key = get_random_bytes(16)\n",
        "\n",
        "cipher = AES.new(aes_key, AES.MODE_OCB)\n",
        "ciphertext, tag = cipher.encrypt_and_digest(data)\n",
        "assert len(cipher.nonce) == 15\n",
        "\n",
        "with open(\"encrypted.bin\", \"wb\") as f:\n",
        "    f.write(tag)\n",
        "    f.write(cipher.nonce)\n",
        "    f.write(ciphertext)\n",
        "\n",
        "# Share securely aes_key with the receiver\n",
        "# encrypted.bin can be sent over an unsecure channel"
      ],
      "metadata": {
        "id": "SmwXHGTAZCzn"
      },
      "execution_count": 10,
      "outputs": []
    },
    {
      "cell_type": "code",
      "source": [
        "#decrypt\n",
        "import sys\n",
        "from Crypto.Cipher import AES\n",
        "\n",
        "# Somehow, the receiver securely get aes_key and hmac_key\n",
        "# encrypted.bin can be sent over an unsecure channel\n",
        "\n",
        "with open(\"encrypted.bin\", \"rb\") as f:\n",
        "    tag = f.read(16)\n",
        "    nonce = f.read(15)\n",
        "    ciphertext = f.read()\n",
        "\n",
        "cipher = AES.new(aes_key, AES.MODE_OCB, nonce=nonce)\n",
        "try:\n",
        "    message = cipher.decrypt_and_verify(ciphertext, tag)\n",
        "except ValueError:\n",
        "    print(\"The message was modified!\")\n",
        "    sys.exit(1)\n",
        "\n",
        "print(\"Message:\", message.decode())"
      ],
      "metadata": {
        "colab": {
          "base_uri": "https://localhost:8080/"
        },
        "id": "eEZUEDljZL3J",
        "outputId": "dc981fc4-c4f0-468c-f34c-3a9a2945d6d4"
      },
      "execution_count": 11,
      "outputs": [
        {
          "output_type": "stream",
          "name": "stdout",
          "text": [
            "Message: secret data to transmit\n"
          ]
        }
      ]
    }
  ]
}